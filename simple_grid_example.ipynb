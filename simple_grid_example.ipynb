{
 "cells": [
  {
   "cell_type": "code",
   "execution_count": 1,
   "metadata": {},
   "outputs": [],
   "source": [
    "from cProfile import label\n",
    "import numpy as np\n",
    "import matplotlib.pyplot as plt\n",
    "import itertools\n",
    "import cvxpy as cp\n",
    "import pickle\n",
    "from manygrid import *\n",
    "\n",
    "from compute_solns import *"
   ]
  },
  {
   "cell_type": "code",
   "execution_count": 2,
   "metadata": {},
   "outputs": [
    {
     "name": "stdout",
     "output_type": "stream",
     "text": [
      "[]\n",
      "[]\n",
      "[]\n"
     ]
    }
   ],
   "source": [
    "# Set up game\n",
    "\n",
    "risk_levels = np.linspace(0,2,5)\n",
    "proj_risk_l = lambda r: proj_risk(r,risk_levels)\n",
    "rows, cols = 5, 5\n",
    "grid = ManyGrid(rows=rows, cols=cols, proj_risk=proj_risk_l, risk_levels=risk_levels)\n",
    "print(grid.grid[(3,3)])\n",
    "grid.addPlayer(\"H\",1,2)\n",
    "grid.addPlayer(\"R\",1,1)\n",
    "print(grid.grid[(3,3)])\n",
    "for i in [0,rows-1]:    \n",
    "    for j in range(cols):\n",
    "        grid.addWall(i,j)\n",
    "for i in range(rows):    \n",
    "    for j in [0,cols-1]:\n",
    "        grid.addWall(i,j)\n",
    "\n",
    "grid.addSquare(str(0.1),3,1,0.1)\n",
    "grid.addSquare(str(0.2),1,3,0.2)\n",
    "\n",
    "state_names, states = grid.get_all_states()\n",
    "\n",
    "human_actions = grid.actions\n",
    "robot_actions = grid.actions\n",
    "\n",
    "gamma = 1\n",
    "T = 10\n",
    "\n",
    "transition = grid.transition\n",
    "reward = grid.reward\n",
    "print(grid.grid[(3,3)])"
   ]
  },
  {
   "cell_type": "code",
   "execution_count": 3,
   "metadata": {},
   "outputs": [],
   "source": [
    "game = get_game(grid,gamma,T)\n",
    "# compute_ex_post(game)"
   ]
  },
  {
   "cell_type": "code",
   "execution_count": 4,
   "metadata": {},
   "outputs": [
    {
     "name": "stdout",
     "output_type": "stream",
     "text": [
      "Checking if solutions exist...\n",
      "Loading solutions...\n",
      "Done!\n"
     ]
    }
   ],
   "source": [
    "name = \"simple_grid_exp\"\n",
    "run_exp(grid,game,parallel=False,T=T, name=name)\n",
    "\n",
    "# v_funs, uHs, uRs_coop, uRs_adv = compute_baseline(game)\n",
    "\n",
    "# print(v_funs[0][(1,2,1,1)])\n"
   ]
  },
  {
   "cell_type": "code",
   "execution_count": 5,
   "metadata": {},
   "outputs": [],
   "source": [
    "# with open(\"experiments/\"+name+'.pickle', 'rb') as handle:\n",
    "#     solns = pickle.load(handle)\n",
    "# print(solns.keys())\n",
    "# print(solns[\"maximax_val\"][0][(1,2,1,1)])\n",
    "\n",
    "# # grid.grid[(3,3)]"
   ]
  },
  {
   "cell_type": "code",
   "execution_count": 6,
   "metadata": {},
   "outputs": [
    {
     "name": "stdout",
     "output_type": "stream",
     "text": [
      "405\n"
     ]
    }
   ],
   "source": [
    "state_names, states = grid.get_all_states()\n",
    "print(len(states))"
   ]
  },
  {
   "cell_type": "code",
   "execution_count": 7,
   "metadata": {},
   "outputs": [
    {
     "name": "stdout",
     "output_type": "stream",
     "text": [
      "((1, 2, 1, 1), 0.0)\n"
     ]
    },
    {
     "data": {
      "image/png": "[encoded data removed]",
      "text/plain": [
       "<Figure size 432x288 with 1 Axes>"
      ]
     },
     "metadata": {
      "needs_background": "light"
     },
     "output_type": "display_data"
    }
   ],
   "source": [
    "initial_state = grid.get_state()\n",
    "print(initial_state)\n",
    "grid.render()"
   ]
  },
  {
   "cell_type": "code",
   "execution_count": 8,
   "metadata": {},
   "outputs": [],
   "source": [
    "# print(initial_state)\n",
    "# grid.run_traj(initial_state, [(None,\"U\"),(None,\"S\"),(\"R\",\"D\"),(\"R\",None),(\"S\",None),(\"L\",None),(\"L\",None),(\"U\",None),(\"U\",None),(\"U\",None),(None,None),(None,None)])"
   ]
  },
  {
   "cell_type": "code",
   "execution_count": 9,
   "metadata": {},
   "outputs": [
    {
     "name": "stdout",
     "output_type": "stream",
     "text": [
      "((1, 2, 1, 1), 1.0)\n"
     ]
    }
   ],
   "source": [
    "# 8mins, 78 mins, 35 mins, 70 mins\n",
    "grid.set_state(initial_state)\n",
    "grid.set_epsilon(1.0)\n",
    "state = grid.get_state()\n",
    "print(state)"
   ]
  },
  {
   "cell_type": "code",
   "execution_count": 10,
   "metadata": {},
   "outputs": [
    {
     "name": "stdout",
     "output_type": "stream",
     "text": [
      "Computing statistics against different agents\n",
      "('gift', 'coop')\n",
      "((1, 2, 1, 1), 1.0)\n",
      "-0.13999999983011824\n",
      "-0.11999999986012577\n",
      "-0.0999999998699308\n",
      "-0.07999999992387608\n",
      "-0.05999999995253491\n",
      "-0.039999999955468324\n",
      "-0.01999999995840185\n",
      "('gift', 'adv')\n",
      "((1, 2, 1, 1), 1.0)\n",
      "-0.13999999983011824\n",
      "-0.11999999986012577\n",
      "-0.0999999998699308\n",
      "-0.07999999992387608\n",
      "-0.05999999995253491\n",
      "-0.039999999955468324\n",
      "-0.01999999995840185\n",
      "('gift', 'random')\n",
      "((1, 2, 1, 1), 1.0)\n",
      "-0.13999999786538497\n",
      "-0.11999999984354859\n",
      "-0.09999999969892626\n",
      "-0.07999999986675788\n",
      "-0.05999999969127734\n",
      "-0.03999999979965463\n",
      "-0.01999999995840185\n",
      "('maximax', 'coop')\n",
      "(1, 2, 1, 1)\n",
      "state= (1, 3, 2, 1) , uH= R , strat= [[0. 0. 0. 1. 0. 0.]] , uR= U total_r= 0\n",
      "state= (1, 3, 3, 1) , uH= D , strat= [[0. 1. 0. 0. 0. 0.]] , uR= U total_r= 0.2\n",
      "state= (1, 3, 3, 1) , uH= D , strat= [[0. 1. 0. 0. 0. 0.]] , uR= U total_r= 0.4\n",
      "state= (1, 3, 3, 1) , uH= D , strat= [[0. 1. 0. 0. 0. 0.]] , uR= U total_r= 0.6000000000000001\n",
      "state= (1, 3, 3, 1) , uH= D , strat= [[0. 1. 0. 0. 0. 0.]] , uR= U total_r= 0.8\n",
      "state= (1, 3, 3, 1) , uH= D , strat= [[0. 1. 0. 0. 0. 0.]] , uR= U total_r= 1.0\n",
      "state= (1, 3, 3, 1) , uH= D , strat= [[0. 1. 0. 0. 0. 0.]] , uR= U total_r= 1.2\n",
      "state= (1, 3, 3, 1) , uH= D , strat= [[0. 1. 0. 0. 0. 0.]] , uR= U total_r= 1.4\n",
      "state= (1, 3, 3, 1) , uH= D , strat= [[0. 1. 0. 0. 0. 0.]] , uR= U total_r= 1.5999999999999999\n",
      "state= (2, 3, 3, 1) , uH= U , strat= [[1. 0. 0. 0. 0. 0.]] , uR= U total_r= 1.7999999999999998\n",
      "('maximax', 'adv')\n",
      "(1, 2, 1, 1)\n",
      "state= (1, 3, 2, 1) , uH= R , strat= [[0. 0. 0. 1. 0. 0.]] , uR= U total_r= 0\n",
      "state= (1, 3, 3, 1) , uH= D , strat= [[0. 1. 0. 0. 0. 0.]] , uR= U total_r= 0.2\n",
      "state= (1, 3, 3, 1) , uH= D , strat= [[0. 1. 0. 0. 0. 0.]] , uR= U total_r= 0.4\n",
      "state= (1, 3, 3, 1) , uH= D , strat= [[0. 1. 0. 0. 0. 0.]] , uR= U total_r= 0.6000000000000001\n",
      "state= (1, 3, 3, 1) , uH= D , strat= [[0. 1. 0. 0. 0. 0.]] , uR= U total_r= 0.8\n",
      "state= (1, 3, 3, 1) , uH= D , strat= [[0. 1. 0. 0. 0. 0.]] , uR= U total_r= 1.0\n",
      "state= (1, 3, 3, 1) , uH= D , strat= [[0. 1. 0. 0. 0. 0.]] , uR= U total_r= 1.2\n",
      "state= (1, 3, 3, 1) , uH= D , strat= [[0. 1. 0. 0. 0. 0.]] , uR= U total_r= 1.4\n",
      "state= (1, 3, 3, 1) , uH= D , strat= [[0. 1. 0. 0. 0. 0.]] , uR= U total_r= 1.5999999999999999\n",
      "state= (2, 3, 3, 1) , uH= U , strat= [[1. 0. 0. 0. 0. 0.]] , uR= U total_r= 1.7999999999999998\n",
      "('maximax', 'random')\n",
      "(1, 2, 1, 1)\n",
      "state= (1, 3, 1, 2) , uH= R , strat= [[0. 0. 0. 1. 0. 0.]] , uR= R total_r= 0\n",
      "state= (1, 3, 1, 1) , uH= D , strat= [[0. 1. 0. 0. 0. 0.]] , uR= L total_r= 0.2\n",
      "state= (1, 3, 1, 1) , uH= D , strat= [[0. 1. 0. 0. 0. 0.]] , uR= S total_r= 0.4\n",
      "state= (1, 3, 1, 2) , uH= D , strat= [[0. 1. 0. 0. 0. 0.]] , uR= R total_r= 0.6000000000000001\n",
      "state= (1, 3, 1, 1) , uH= D , strat= [[0. 1. 0. 0. 0. 0.]] , uR= L total_r= 0.8\n",
      "state= (1, 3, 1, 1) , uH= D , strat= [[0. 1. 0. 0. 0. 0.]] , uR= S total_r= 1.0\n",
      "state= (1, 3, 2, 1) , uH= D , strat= [[0. 1. 0. 0. 0. 0.]] , uR= U total_r= 1.2\n",
      "state= (1, 3, 3, 1) , uH= D , strat= [[0. 1. 0. 0. 0. 0.]] , uR= U total_r= 1.4\n",
      "state= (1, 3, 3, 1) , uH= D , strat= [[0. 1. 0. 0. 0. 0.]] , uR= S total_r= 1.5999999999999999\n",
      "state= (2, 3, 3, 1) , uH= U , strat= [[1. 0. 0. 0. 0. 0.]] , uR= U total_r= 1.7999999999999998\n",
      "('baseline', 'coop')\n",
      "(1, 2, 1, 1)\n",
      "state= (1, 3, 2, 1) , uH= R , strat= [[3.86571752e-11 1.01485900e-11 1.01485900e-11 1.00000000e+00\n",
      "  1.01485900e-11 1.01485900e-11]] , uR= U total_r= 0\n",
      "state= (1, 3, 3, 1) , uH= R , strat= [[2.44516313e-11 2.50000000e-01 2.44516313e-11 2.50000000e-01\n",
      "  2.50000000e-01 2.50000000e-01]] , uR= U total_r= 0.2\n",
      "state= (1, 3, 3, 1) , uH= D , strat= [[2.24373934e-11 2.50000001e-01 2.24373934e-11 2.50000000e-01\n",
      "  2.50000000e-01 2.50000000e-01]] , uR= U total_r= 0.4\n",
      "state= (1, 3, 3, 1) , uH= S , strat= [[2.24149321e-11 2.50000000e-01 2.24149321e-11 2.50000001e-01\n",
      "  2.50000000e-01 2.50000000e-01]] , uR= U total_r= 0.6000000000000001\n",
      "state= (1, 3, 3, 1) , uH= D , strat= [[2.17390664e-11 2.50000000e-01 2.17390664e-11 2.50000000e-01\n",
      "  2.50000000e-01 2.50000000e-01]] , uR= U total_r= 0.8\n",
      "state= (1, 3, 3, 1) , uH= D , strat= [[1.92894668e-11 2.50000001e-01 1.92894668e-11 2.49999999e-01\n",
      "  2.49999999e-01 2.50000001e-01]] , uR= U total_r= 1.0\n",
      "state= (1, 3, 3, 1) , uH= D , strat= [[1.92809813e-11 2.50000000e-01 1.92809813e-11 2.50000000e-01\n",
      "  2.50000000e-01 2.50000000e-01]] , uR= U total_r= 1.2\n",
      "state= (1, 3, 3, 1) , uH= S , strat= [[1.92808023e-11 2.50000000e-01 1.92808023e-11 2.50000000e-01\n",
      "  2.50000000e-01 2.50000000e-01]] , uR= U total_r= 1.4\n",
      "state= (1, 3, 3, 1) , uH= R , strat= [[1.92806559e-11 2.50000000e-01 1.92806559e-11 2.50000000e-01\n",
      "  2.50000000e-01 2.50000000e-01]] , uR= U total_r= 1.5999999999999999\n",
      "state= (1, 3, 3, 1) , uH= D , strat= [[0.16666667 0.16666667 0.16666667 0.16666667 0.16666667 0.16666667]] , uR= S total_r= 1.7999999999999998\n",
      "('baseline', 'adv')\n",
      "(1, 2, 1, 1)\n",
      "state= (1, 3, 1, 2) , uH= R , strat= [[3.86571752e-11 1.01485900e-11 1.01485900e-11 1.00000000e+00\n",
      "  1.01485900e-11 1.01485900e-11]] , uR= R total_r= 0\n",
      "state= (1, 3, 1, 2) , uH= R , strat= [[2.93684516e-09 1.99999999e-01 1.99999999e-01 1.99999999e-01\n",
      "  1.99999999e-01 2.00000000e-01]] , uR= D total_r= 0.2\n",
      "state= (1, 3, 1, 2) , uH= L , strat= [[2.60803597e-09 1.99999999e-01 1.99999999e-01 1.99999999e-01\n",
      "  2.00000000e-01 2.00000000e-01]] , uR= D total_r= 0.4\n",
      "state= (1, 3, 2, 2) , uH= S , strat= [[1.90080480e-09 1.99999999e-01 2.00000000e-01 2.00000000e-01\n",
      "  2.00000000e-01 2.00000000e-01]] , uR= U total_r= 0.6000000000000001\n",
      "state= (1, 3, 2, 3) , uH= S , strat= [[3.62221823e-11 2.50000001e-01 3.62221823e-11 2.50000000e-01\n",
      "  2.49999999e-01 2.49999999e-01]] , uR= R total_r= 0.8\n",
      "state= (1, 3, 2, 2) , uH= None , strat= [[2.00000000e-01 2.00000000e-01 1.72937477e-09 2.00000000e-01\n",
      "  2.00000000e-01 2.00000000e-01]] , uR= L total_r= 1.0\n",
      "state= (1, 3, 1, 2) , uH= None , strat= [[3.90577488e-11 2.49999999e-01 3.90577488e-11 2.50000000e-01\n",
      "  2.50000000e-01 2.50000000e-01]] , uR= D total_r= 1.2\n",
      "state= (1, 3, 1, 2) , uH= None , strat= [[2.21966777e-09 2.00000000e-01 2.00000000e-01 2.00000000e-01\n",
      "  2.00000000e-01 2.00000000e-01]] , uR= D total_r= 1.4\n",
      "state= (1, 3, 2, 2) , uH= S , strat= [[1.60743449e-09 2.00000000e-01 2.00000000e-01 2.00000000e-01\n",
      "  2.00000000e-01 2.00000000e-01]] , uR= U total_r= 1.5999999999999999\n",
      "state= (1, 3, 3, 2) , uH= R , strat= [[0.16666667 0.16666667 0.16666667 0.16666667 0.16666667 0.16666667]] , uR= U total_r= 1.7999999999999998\n",
      "('baseline', 'random')\n",
      "(1, 2, 1, 1)\n",
      "state= (1, 3, 1, 1) , uH= R , strat= [[3.86571752e-11 1.01485900e-11 1.01485900e-11 1.00000000e+00\n",
      "  1.01485900e-11 1.01485900e-11]] , uR= S total_r= 0\n",
      "state= (1, 3, 1, 1) , uH= None , strat= [[3.62577156e-11 2.50000000e-01 3.62577159e-11 2.50000000e-01\n",
      "  2.50000000e-01 2.50000000e-01]] , uR= L total_r= 0.2\n",
      "state= (1, 3, 1, 1) , uH= D , strat= [[3.40850632e-11 2.50000000e-01 3.40850634e-11 2.49999999e-01\n",
      "  2.50000000e-01 2.50000000e-01]] , uR= L total_r= 0.4\n",
      "state= (1, 3, 2, 1) , uH= None , strat= [[2.62082716e-11 2.49999999e-01 2.62082717e-11 2.50000000e-01\n",
      "  2.50000000e-01 2.50000000e-01]] , uR= U total_r= 0.6000000000000001\n",
      "state= (1, 3, 1, 1) , uH= R , strat= [[2.35808709e-11 2.50000001e-01 2.35808709e-11 2.49999999e-01\n",
      "  2.50000001e-01 2.49999999e-01]] , uR= D total_r= 0.8\n",
      "state= (1, 3, 1, 1) , uH= R , strat= [[2.62130994e-11 2.50000000e-01 2.62130996e-11 2.50000000e-01\n",
      "  2.50000000e-01 2.50000000e-01]] , uR= L total_r= 1.0\n",
      "state= (1, 3, 2, 1) , uH= None , strat= [[3.87754375e-11 2.50000000e-01 3.87754377e-11 2.50000000e-01\n",
      "  2.50000000e-01 2.50000000e-01]] , uR= U total_r= 1.2\n",
      "state= (1, 3, 2, 2) , uH= D , strat= [[1.92808023e-11 2.50000000e-01 1.92808023e-11 2.50000000e-01\n",
      "  2.50000000e-01 2.50000000e-01]] , uR= R total_r= 1.4\n",
      "state= (1, 3, 2, 2) , uH= R , strat= [[1.92806559e-11 2.50000000e-01 1.92806559e-11 2.50000000e-01\n",
      "  2.50000000e-01 2.50000000e-01]] , uR= None total_r= 1.5999999999999999\n",
      "state= (1, 3, 1, 2) , uH= R , strat= [[0.16666667 0.16666667 0.16666667 0.16666667 0.16666667 0.16666667]] , uR= D total_r= 1.7999999999999998\n"
     ]
    }
   ],
   "source": [
    "res = manygrid.run_sim_single(state, grid, 1, T=T, name=name)"
   ]
  },
  {
   "cell_type": "code",
   "execution_count": 11,
   "metadata": {},
   "outputs": [
    {
     "data": {
      "text/plain": [
       "<ErrorbarContainer object of 3 artists>"
      ]
     },
     "execution_count": 11,
     "metadata": {},
     "output_type": "execute_result"
    },
    {
     "data": {
      "image/png": "[encoded data removed]",
      "text/plain": [
       "<Figure size 1440x360 with 1 Axes>"
      ]
     },
     "metadata": {
      "needs_background": "light"
     },
     "output_type": "display_data"
    }
   ],
   "source": [
    "\n",
    "ress = list(zip(*res.items()))\n",
    "x,z = ress[0],ress[1]\n",
    "x = [str(i) for i in x]\n",
    "y = [i[0] for i in z]\n",
    "c  = [i[1] for i in z]\n",
    "plt.figure(figsize=(20,5))\n",
    "plt.bar(x,y)\n",
    "plt.errorbar(x, y, yerr=c, fmt=\"o\", color=\"r\")"
   ]
  },
  {
   "cell_type": "code",
   "execution_count": 13,
   "metadata": {},
   "outputs": [
    {
     "data": {
      "text/plain": [
       "{('gift', 'coop'): (1.7999999999999998, 0.0),\n",
       " ('gift', 'adv'): (1.7999999999999998, 0.0),\n",
       " ('gift', 'random'): (1.7999999999999998, 0.0),\n",
       " ('maximax', 'coop'): (1.7999999999999998, 0.0),\n",
       " ('maximax', 'adv'): (1.7999999999999998, 0.0),\n",
       " ('maximax', 'random'): (1.7999999999999998, 0.0),\n",
       " ('baseline', 'coop'): (1.7999999999999998, 0.0),\n",
       " ('baseline', 'adv'): (1.7999999999999998, 0.0),\n",
       " ('baseline', 'random'): (1.7999999999999998, 0.0)}"
      ]
     },
     "execution_count": 13,
     "metadata": {},
     "output_type": "execute_result"
    }
   ],
   "source": [
    "res"
   ]
  },
  {
   "cell_type": "code",
   "execution_count": null,
   "metadata": {},
   "outputs": [],
   "source": []
  }
 ],
 "metadata": {
  "interpreter": {
   "hash": "2a91ce111bf7d6151ef58baa2bb212eee2faec069425c365316915ac83c502c6"
  },
  "kernelspec": {
   "display_name": "Python 3.9.10 ('games_env')",
   "language": "python",
   "name": "python3"
  },
  "language_info": {
   "codemirror_mode": {
    "name": "ipython",
    "version": 3
   },
   "file_extension": ".py",
   "mimetype": "text/x-python",
   "name": "python",
   "nbconvert_exporter": "python",
   "pygments_lexer": "ipython3",
   "version": "3.9.10"
  },
  "orig_nbformat": 4
 },
 "nbformat": 4,
 "nbformat_minor": 2
}
