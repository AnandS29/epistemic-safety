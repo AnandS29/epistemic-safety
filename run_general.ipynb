{
 "cells": [
  {
   "cell_type": "code",
   "execution_count": 1,
   "metadata": {},
   "outputs": [],
   "source": [
    "from general_example import *"
   ]
  },
  {
   "cell_type": "code",
   "execution_count": 2,
   "metadata": {},
   "outputs": [
    {
     "name": "stdout",
     "output_type": "stream",
     "text": [
      "['RHRHU', 'HRHU', 'RHU', 'HU', 'U_pos', 'U_neg', 'RU', 'HRU', 'RHRU', 'NULL']\n",
      "[0.1, 0.2, 0.5]\n",
      "[0.  0.1 0.2 0.3 0.4 0.5 0.6 0.7 0.8 0.9 1.  1.1 1.2 1.3 1.4 1.5 1.6 1.7\n",
      " 1.8 1.9 2.  2.1 2.2 2.3 2.4 2.5 2.6 2.7 2.8 2.9 3.  3.1 3.2 3.3 3.4 3.5\n",
      " 3.6 3.7 3.8 3.9 4.  4.1 4.2 4.3 4.4 4.5 4.6 4.7 4.8 4.9 5. ]\n"
     ]
    }
   ],
   "source": [
    "print(game_types)\n",
    "print(abs_util)\n",
    "print(risk_levels)"
   ]
  },
  {
   "cell_type": "code",
   "execution_count": 4,
   "metadata": {},
   "outputs": [
    {
     "name": "stdout",
     "output_type": "stream",
     "text": [
      "Experiment: RHRHU 0.1 0\n",
      "Checking if solutions exist...\n",
      "Loading solutions...\n",
      "No solutions, so now computing solutions...\n",
      "9, 8, 7, 6, 5, 4, 3, 2, 1, 0, Saving solutions\n",
      "Done!\n",
      "Experiment: RHRHU 0.1 0.1\n",
      "Checking if solutions exist...\n",
      "Loading solutions...\n",
      "Done!\n",
      "Experiment: RHRHU 0.1 1.0\n",
      "Checking if solutions exist...\n",
      "Loading solutions...\n",
      "Done!\n",
      "Experiment: RHRHU 0.1 2.0\n",
      "Checking if solutions exist...\n",
      "Loading solutions...\n",
      "Done!\n",
      "Experiment: RHRHU 0.1 3.0\n",
      "Checking if solutions exist...\n",
      "Loading solutions...\n",
      "Done!\n",
      "Experiment: RHRHU 0.1 5.0\n",
      "Checking if solutions exist...\n",
      "Loading solutions...\n",
      "Done!\n",
      "Experiment: RHRHU 0.2 0\n",
      "Checking if solutions exist...\n",
      "Loading solutions...\n",
      "No solutions, so now computing solutions...\n",
      "9, 8, 7, 6, 5, 4, 3, 2, 1, 0, Saving solutions\n",
      "Done!\n",
      "Experiment: RHRHU 0.2 0.1\n",
      "Checking if solutions exist...\n",
      "Loading solutions...\n",
      "Done!\n",
      "Experiment: RHRHU 0.2 1.0\n",
      "Checking if solutions exist...\n",
      "Loading solutions...\n",
      "Done!\n",
      "Experiment: RHRHU 0.2 2.0\n",
      "Checking if solutions exist...\n",
      "Loading solutions...\n",
      "Done!\n",
      "Experiment: RHRHU 0.2 3.0\n",
      "Checking if solutions exist...\n",
      "Loading solutions...\n",
      "Done!\n",
      "Experiment: RHRHU 0.2 5.0\n",
      "Checking if solutions exist...\n",
      "Loading solutions...\n",
      "Done!\n",
      "Experiment: RHRHU 0.5 0\n",
      "Checking if solutions exist...\n",
      "Loading solutions...\n",
      "No solutions, so now computing solutions...\n",
      "9, 8, 7, 6, 5, 4, 3, 2, 1, 0, Saving solutions\n",
      "Done!\n",
      "Experiment: RHRHU 0.5 0.1\n",
      "Checking if solutions exist...\n",
      "Loading solutions...\n",
      "Done!\n",
      "Experiment: RHRHU 0.5 1.0\n",
      "Checking if solutions exist...\n",
      "Loading solutions...\n",
      "Done!\n",
      "Experiment: RHRHU 0.5 2.0\n",
      "Checking if solutions exist...\n",
      "Loading solutions...\n",
      "Done!\n",
      "Experiment: RHRHU 0.5 3.0\n",
      "Checking if solutions exist...\n",
      "Loading solutions...\n",
      "Done!\n",
      "Experiment: RHRHU 0.5 5.0\n",
      "Checking if solutions exist...\n",
      "Loading solutions...\n",
      "Done!\n",
      "Experiment: HRHU 0.1 0\n",
      "Checking if solutions exist...\n",
      "Loading solutions...\n",
      "No solutions, so now computing solutions...\n",
      "9, 8, 7, 6, 5, 4, 3, 2, 1, 0, Saving solutions\n",
      "Done!\n",
      "Experiment: HRHU 0.1 0.1\n",
      "Checking if solutions exist...\n",
      "Loading solutions...\n",
      "Done!\n",
      "Experiment: HRHU 0.1 1.0\n",
      "Checking if solutions exist...\n",
      "Loading solutions...\n",
      "Done!\n",
      "Experiment: HRHU 0.1 2.0\n",
      "Checking if solutions exist...\n",
      "Loading solutions...\n",
      "Done!\n",
      "Experiment: HRHU 0.1 3.0\n",
      "Checking if solutions exist...\n",
      "Loading solutions...\n",
      "Done!\n",
      "Experiment: HRHU 0.1 5.0\n",
      "Checking if solutions exist...\n",
      "Loading solutions...\n",
      "Done!\n",
      "Experiment: HRHU 0.2 0\n",
      "Checking if solutions exist...\n",
      "Loading solutions...\n",
      "No solutions, so now computing solutions...\n",
      "9, 8, 7, 6, 5, 4, 3, 2, 1, 0, Saving solutions\n",
      "Done!\n",
      "Experiment: HRHU 0.2 0.1\n",
      "Checking if solutions exist...\n",
      "Loading solutions...\n",
      "Done!\n",
      "Experiment: HRHU 0.2 1.0\n",
      "Checking if solutions exist...\n",
      "Loading solutions...\n",
      "Done!\n",
      "Experiment: HRHU 0.2 2.0\n",
      "Checking if solutions exist...\n",
      "Loading solutions...\n",
      "Done!\n",
      "Experiment: HRHU 0.2 3.0\n",
      "Checking if solutions exist...\n",
      "Loading solutions...\n",
      "Done!\n",
      "Experiment: HRHU 0.2 5.0\n",
      "Checking if solutions exist...\n",
      "Loading solutions...\n",
      "Done!\n",
      "Experiment: HRHU 0.5 0\n",
      "Checking if solutions exist...\n",
      "Loading solutions...\n",
      "No solutions, so now computing solutions...\n",
      "9, 8, 7, 6, 5, 4, 3, 2, 1, 0, "
     ]
    }
   ],
   "source": [
    "risk_levels_to_run = [0, 0.1, 1.0, 2.0, 3.0, 5.0]\n",
    "for state in game_types:\n",
    "    for alpha in abs_util:\n",
    "        for risk in risk_levels_to_run:\n",
    "            print(\"Experiment:\", state, alpha, risk)\n",
    "            run_exp(state, alpha, risk)"
   ]
  },
  {
   "cell_type": "code",
   "execution_count": null,
   "metadata": {},
   "outputs": [
    {
     "name": "stdout",
     "output_type": "stream",
     "text": [
      "Simulating against different agents\n",
      "Testing with coop agent\n",
      "(('RU', 0.1), 0.1)\n",
      "state= (('U_pos', 0.1), 0.2) , uH= (1, 0.2) , strat= [[0.16666667 0.16666667 0.16666667 0.16666667 0.16666667 0.16666667]] , uR= 1 , dr= 0.1999999999425769 , r+dr= 0.29999999994257687 , constraint= 0.09999999994257724\n",
      "state= (('NULL', 0.1), 0.1) , uH= (1, 0.2) , strat= [[0.16666667 0.16666667 0.16666667 0.16666667 0.16666667 0.16666667]] , uR= 1 , dr= -6.439664773649767e-11 , r+dr= 0.19999999993560336 , constraint= 0.19999999993560336\n",
      "state= (('RU', 0.1), 0.0) , uH= (2, 0.2) , strat= [[0.16666667 0.16666667 0.16666667 0.16666667 0.16666667 0.16666667]] , uR= 1 , dr= -6.439682120884527e-11 , r+dr= 0.09999999993560318 , constraint= 0.09999999993560325\n",
      "state= (('U_pos', 0.1), 0.1) , uH= (1, 0.5) , strat= [[0.16666667 0.16666667 0.16666667 0.16666667 0.16666667 0.16666667]] , uR= 1 , dr= 0.19999999981429958 , r+dr= 0.19999999981429958 , constraint= -5.7422649968330575e-11\n",
      "state= (('NULL', 0.1), 0.1) , uH= (1, 0.1) , strat= [[0.16666667 0.16666667 0.16666667 0.16666667 0.16666667 0.16666667]] , uR= 1 , dr= 6.388089314936864e-11 , r+dr= 0.10000000006388089 , constraint= 0.10000000006388092\n",
      "state= (('RU', 0.1), 0.0) , uH= (1, 0.2) , strat= [[0.16666667 0.16666667 0.16666667 0.16666667 0.16666667 0.16666667]] , uR= 1 , dr= -6.439667549207329e-11 , r+dr= 0.09999999993560332 , constraint= 0.09999999993560332\n",
      "state= (('U_pos', 0.1), 0.1) , uH= (1, 0.5) , strat= [[0.16666667 0.16666667 0.16666667 0.16666667 0.16666667 0.16666667]] , uR= 1 , dr= 0.19999999981429967 , r+dr= 0.19999999981429967 , constraint= -5.742256670160373e-11\n",
      "state= (('NULL', 0.1), 0.1) , uH= (2, 0.2) , strat= [[0.16666667 0.16666667 0.16666667 0.16666667 0.16666667 0.16666667]] , uR= 1 , dr= 6.388105322496784e-11 , r+dr= 0.10000000006388106 , constraint= 0.10000000006388106\n",
      "state= (('RU', 0.1), 0.1) , uH= (1, 0.1) , strat= [[0.16666667 0.16666667 0.16666667 0.16666667 0.16666667 0.16666667]] , uR= 1 , dr= 6.3880925869678e-11 , r+dr= 0.10000000006388093 , constraint= 0.10000000006388093\n",
      "state= (('U_pos', 0.1), 0.0) , uH= (2, 0.5) , strat= [[0.16666667 0.16666667 0.16666667 0.16666667 0.16666667 0.16666667]] , uR= 1 , dr= -1.8349909302677534e-11 , r+dr= 0.0999999999816501 , constraint= 0.0999999999816501\n",
      "\n",
      "Testing with adv agent\n",
      "(('RU', 0.1), 0.1)\n",
      "state= (('U_neg', 0.1), 0.0) , uH= (1, 0.2) , strat= [[0.16666667 0.16666667 0.16666667 0.16666667 0.16666667 0.16666667]] , uR= 2 , dr= -5.742274711284523e-11 , r+dr= 0.09999999994257726 , constraint= 0.09999999994257724\n",
      "state= (('NULL', 0.1), 0.0) , uH= (2, 0.2) , strat= [[0.16666667 0.16666667 0.16666667 0.16666667 0.16666667 0.16666667]] , uR= 1 , dr= -6.439702937566238e-11 , r+dr= -6.439702937566238e-11 , constraint= -6.439702937566238e-11\n",
      "state= (('RU', 0.1), 0.0) , uH= (1, 0.2) , strat= [[0.16666667 0.16666667 0.16666667 0.16666667 0.16666667 0.16666667]] , uR= 1 , dr= -6.439682120884527e-11 , r+dr= -6.439682120884527e-11 , constraint= -6.439682120884527e-11\n",
      "state= (('U_neg', 0.1), 0.0) , uH= (1, 0.1) , strat= [[0.16666667 0.16666667 0.16666667 0.16666667 0.16666667 0.16666667]] , uR= 2 , dr= -5.742263609054277e-11 , r+dr= -5.742263609054277e-11 , constraint= -5.742263609054277e-11\n",
      "state= (('NULL', 0.1), 0.0) , uH= (1, 0.5) , strat= [[0.16666667 0.16666667 0.16666667 0.16666667 0.16666667 0.16666667]] , uR= 1 , dr= -6.439684896442088e-11 , r+dr= -6.439684896442088e-11 , constraint= -6.439684896442088e-11\n",
      "state= (('RU', 0.1), 0.0) , uH= (1, 0.2) , strat= [[0.16666667 0.16666667 0.16666667 0.16666667 0.16666667 0.16666667]] , uR= 1 , dr= -6.439665467539157e-11 , r+dr= -6.439665467539157e-11 , constraint= -6.439665467539157e-11\n",
      "state= (('U_neg', 0.1), 0.0) , uH= (2, 0.1) , strat= [[0.16666667 0.16666667 0.16666667 0.16666667 0.16666667 0.16666667]] , uR= 2 , dr= -5.742258751828544e-11 , r+dr= -5.742258751828544e-11 , constraint= -5.742258751828544e-11\n",
      "state= (('NULL', 0.1), 0.0) , uH= (1, 0.5) , strat= [[0.16666667 0.16666667 0.16666667 0.16666667 0.16666667 0.16666667]] , uR= 1 , dr= -6.439665467539157e-11 , r+dr= -6.439665467539157e-11 , constraint= -6.439665467539157e-11\n",
      "state= (('RU', 0.1), 0.0) , uH= (1, 0.5) , strat= [[0.16666667 0.16666667 0.16666667 0.16666667 0.16666667 0.16666667]] , uR= 1 , dr= 6.3880925869678e-11 , r+dr= 6.3880925869678e-11 , constraint= 6.3880925869678e-11\n",
      "state= (('U_pos', 0.1), 0.0) , uH= (2, 0.1) , strat= [[0.16666667 0.16666667 0.16666667 0.16666667 0.16666667 0.16666667]] , uR= 1 , dr= -1.8349909302677534e-11 , r+dr= -1.8349909302677534e-11 , constraint= -1.8349909302677534e-11\n",
      "\n",
      "Testing with random agent\n",
      "(('RU', 0.1), 0.1)\n",
      "state= (('U_pos', 0.1), 0.2) , uH= (1, 0.1) , strat= [[0.16666667 0.16666667 0.16666667 0.16666667 0.16666667 0.16666667]] , uR= 1 , dr= 0.1999999999425769 , r+dr= 0.29999999994257687 , constraint= 0.09999999994257724\n",
      "state= (('NULL', 0.1), 0.1) , uH= (1, 0.5) , strat= [[0.16666667 0.16666667 0.16666667 0.16666667 0.16666667 0.16666667]] , uR= 2 , dr= -6.439668243096719e-11 , r+dr= 0.19999999993560333 , constraint= 0.19999999993560336\n",
      "state= (('RU', 0.1), 0.0) , uH= (2, 0.1) , strat= [[0.16666667 0.16666667 0.16666667 0.16666667 0.16666667 0.16666667]] , uR= 2 , dr= -6.439691835335992e-11 , r+dr= 0.09999999993560309 , constraint= 0.09999999993560313\n",
      "state= (('U_neg', 0.1), 0.0) , uH= (2, 0.5) , strat= [[0.16666667 0.16666667 0.16666667 0.16666667 0.16666667 0.16666667]] , uR= 2 , dr= -5.7422649968330575e-11 , r+dr= -5.7422649968330575e-11 , constraint= -5.7422649968330575e-11\n",
      "state= (('NULL', 0.1), 0.0) , uH= (1, 0.2) , strat= [[0.16666667 0.16666667 0.16666667 0.16666667 0.16666667 0.16666667]] , uR= 2 , dr= -6.439686284220869e-11 , r+dr= -6.439686284220869e-11 , constraint= -6.439686284220869e-11\n",
      "state= (('RU', 0.1), 0.0) , uH= (1, 0.5) , strat= [[0.16666667 0.16666667 0.16666667 0.16666667 0.16666667 0.16666667]] , uR= 2 , dr= -6.439667549207329e-11 , r+dr= -6.439667549207329e-11 , constraint= -6.439667549207329e-11\n",
      "state= (('U_neg', 0.1), 0.0) , uH= (1, 0.1) , strat= [[0.16666667 0.16666667 0.16666667 0.16666667 0.16666667 0.16666667]] , uR= 2 , dr= -5.742256670160373e-11 , r+dr= -5.742256670160373e-11 , constraint= -5.742256670160373e-11\n",
      "state= (('NULL', 0.1), 0.0) , uH= (2, 0.2) , strat= [[0.16666667 0.16666667 0.16666667 0.16666667 0.16666667 0.16666667]] , uR= 1 , dr= -6.439667549207329e-11 , r+dr= -6.439667549207329e-11 , constraint= -6.439667549207329e-11\n",
      "state= (('RU', 0.1), 0.0) , uH= (2, 0.5) , strat= [[0.16666667 0.16666667 0.16666667 0.16666667 0.16666667 0.16666667]] , uR= 2 , dr= 6.3880925869678e-11 , r+dr= 6.3880925869678e-11 , constraint= 6.3880925869678e-11\n",
      "state= (('U_neg', 0.1), 0.0) , uH= (2, 0.2) , strat= [[0.16666667 0.16666667 0.16666667 0.16666667 0.16666667 0.16666667]] , uR= 2 , dr= -1.8349909302677534e-11 , r+dr= -1.8349909302677534e-11 , constraint= -1.8349909302677534e-11\n",
      "\n",
      "Computing statistics against different agents\n",
      "Plotting results\n"
     ]
    },
    {
     "data": {
      "image/png": "[encoded data removed]",
      "text/plain": [
       "<Figure size 432x288 with 1 Axes>"
      ]
     },
     "metadata": {
      "needs_background": "light"
     },
     "output_type": "display_data"
    }
   ],
   "source": [
    "run_sim(init_state, init_alpha, init_risk)"
   ]
  },
  {
   "cell_type": "code",
   "execution_count": null,
   "metadata": {},
   "outputs": [],
   "source": []
  }
 ],
 "metadata": {
  "interpreter": {
   "hash": "2a91ce111bf7d6151ef58baa2bb212eee2faec069425c365316915ac83c502c6"
  },
  "kernelspec": {
   "display_name": "Python 3.9.10 ('games_env')",
   "language": "python",
   "name": "python3"
  },
  "language_info": {
   "codemirror_mode": {
    "name": "ipython",
    "version": 3
   },
   "file_extension": ".py",
   "mimetype": "text/x-python",
   "name": "python",
   "nbconvert_exporter": "python",
   "pygments_lexer": "ipython3",
   "version": "3.9.10"
  },
  "orig_nbformat": 4
 },
 "nbformat": 4,
 "nbformat_minor": 2
}
