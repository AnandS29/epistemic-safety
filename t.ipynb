{
 "cells": [
  {
   "cell_type": "code",
   "execution_count": 1,
   "metadata": {},
   "outputs": [
    {
     "name": "stdout",
     "output_type": "stream",
     "text": [
      "Computing baseline...\n",
      "9, 8, 7, 6, 5, 4, 3, 2, 1, 0, Done with baseline!\n",
      "Computing maximax...\n",
      "9, 8, 7, 6, 5, 4, 3, 2, 1, 0, Done with maximax!\n",
      "Computing ex post solution...\n",
      "9, Set parameter Username\n",
      "Academic license - for non-commercial use only - expires 2023-03-11\n",
      "8, 7, 6, 5, 4, 3, 2, 1, 0, Done with ex post!\n"
     ]
    }
   ],
   "source": [
    "from cProfile import label\n",
    "import numpy as np\n",
    "import matplotlib.pyplot as plt\n",
    "import nashpy as nash\n",
    "import itertools\n",
    "import cvxpy as cp\n",
    "\n",
    "from compute_solns import *\n",
    "\n",
    "# Set up game\n",
    "\n",
    "state_names = [\"s1\"]\n",
    "round = 2\n",
    "risk_levels = np.linspace(0,100,101)\n",
    "states = []\n",
    "for name in state_names:\n",
    "    for risk in risk_levels:\n",
    "        states.append((name, risk))\n",
    "\n",
    "human_actions = [1,5,10]\n",
    "robot_actions = [\"S\",\"F\"]\n",
    "\n",
    "gamma = 1\n",
    "T = 10\n",
    "\n",
    "# def project_risk(r):\n",
    "#     r = np.round(r,round)\n",
    "#     return np.max([l for l in risk_levels if l <= r ])\n",
    "    # return risk_levels[np.argmin([np.abs(r-l) for l in risk_levels])]\n",
    "\n",
    "def transition(state, uH, uR, dr, check=False):\n",
    "    s = state[0]\n",
    "    if check and state[1] + dr < 0:\n",
    "        print(\"RIP: Risking more than you've won\")\n",
    "    # r = risk_levels[np.argmin([np.abs(state[1]+dr-l) for l in risk_levels])]\n",
    "    r = proj_risk(state[1]+dr, risk_levels)\n",
    "    return (s,r)\n",
    "        \n",
    "def reward(state, uH, uR):\n",
    "    rR = (2 if uR==\"S\" else 0)*uH\n",
    "    rH = (10-uH)\n",
    "    social = rR + rH\n",
    "    return (social,social,social)\n",
    "\n",
    "\n",
    "game = {\n",
    "    \"state_names\":state_names, \"states\":states, \"risk_levels\":risk_levels,\n",
    "    \"human_actions\":human_actions, \"robot_actions\":robot_actions,\n",
    "    \"transition\":transition, \"reward\":reward,\n",
    "    \"gamma\":gamma, \"T\":T,\n",
    "    \"misc\":{\"round\":round}\n",
    "}\n",
    "\n",
    "# Compute solutions\n",
    "solns = compute_ex_post(game)\n",
    "\n",
    "# print(solns[\"adv_val\"][0])\n",
    "\n",
    "# Simulation parameters\n",
    "s0 = (\"s1\",proj_risk(3, risk_levels))\n",
    "\n",
    "seed = None\n",
    "n_rollouts_max = 30\n",
    "\n",
    "sim = lambda opp_type: simulate(s0, game, solns, opp_type, seed)\n",
    "comp_stats = lambda n, opp_type: compute_stats(n, s0, game, solns, opp_type, seed)\n",
    "\n",
    "# Issues to talk about: projecting onto risk levels when they become negative\n",
    "# Memoization"
   ]
  },
  {
   "cell_type": "code",
   "execution_count": 2,
   "metadata": {},
   "outputs": [
    {
     "name": "stdout",
     "output_type": "stream",
     "text": [
      "('maximax', 'adv')\n",
      "s1\n",
      "(0, 0, 0)\n",
      "state= s1 , uH= 10 , strat= [[0. 0. 1.]] , uR= F total_r= 0\n",
      "(0, 0, 0)\n",
      "state= s1 , uH= 10 , strat= [[0. 0. 1.]] , uR= F total_r= 0\n",
      "(0, 0, 0)\n",
      "state= s1 , uH= 10 , strat= [[0. 0. 1.]] , uR= F total_r= 0\n",
      "(0, 0, 0)\n",
      "state= s1 , uH= 10 , strat= [[0. 0. 1.]] , uR= F total_r= 0\n",
      "(0, 0, 0)\n",
      "state= s1 , uH= 10 , strat= [[0. 0. 1.]] , uR= F total_r= 0\n",
      "(0, 0, 0)\n",
      "state= s1 , uH= 10 , strat= [[0. 0. 1.]] , uR= F total_r= 0\n",
      "(0, 0, 0)\n",
      "state= s1 , uH= 10 , strat= [[0. 0. 1.]] , uR= F total_r= 0\n",
      "(0, 0, 0)\n",
      "state= s1 , uH= 10 , strat= [[0. 0. 1.]] , uR= F total_r= 0\n",
      "(0, 0, 0)\n",
      "state= s1 , uH= 10 , strat= [[0. 0. 1.]] , uR= F total_r= 0\n",
      "(0, 0, 0)\n",
      "state= s1 , uH= 10 , strat= [[0. 0. 1.]] , uR= F total_r= 0\n"
     ]
    },
    {
     "data": {
      "text/plain": [
       "{'average_reward': 0.0,\n",
       " 'std_reward': 0.0,\n",
       " 'baseline_reward': 90.00000005005532,\n",
       " 'rewards': [0]}"
      ]
     },
     "execution_count": 2,
     "metadata": {},
     "output_type": "execute_result"
    }
   ],
   "source": [
    "comp_stats(1, (\"maximax\", \"adv\"))"
   ]
  },
  {
   "cell_type": "code",
   "execution_count": 10,
   "metadata": {},
   "outputs": [
    {
     "name": "stdout",
     "output_type": "stream",
     "text": [
      "('gift', 'coop')\n",
      "('s1', 3.0)\n",
      "{'average_reward': 186.0, 'std_reward': 0.0, 'baseline_reward': 90.00000005005532, 'rewards': [186]}\n",
      "('gift', 'adv')\n",
      "('s1', 3.0)\n",
      "{'average_reward': 90.0, 'std_reward': 0.0, 'baseline_reward': 90.00000005005532, 'rewards': [90]}\n",
      "('gift', 'random')\n",
      "('s1', 3.0)\n",
      "{'average_reward': 92.0, 'std_reward': 0.0, 'baseline_reward': 90.00000005005532, 'rewards': [92]}\n",
      "('maximax', 'coop')\n",
      "{'average_reward': 200.0, 'std_reward': 0.0, 'baseline_reward': 90.00000005005532, 'rewards': [200]}\n",
      "('maximax', 'adv')\n",
      "{'average_reward': 0.0, 'std_reward': 0.0, 'baseline_reward': 90.00000005005532, 'rewards': [0]}\n",
      "('maximax', 'random')\n",
      "{'average_reward': 80.0, 'std_reward': 0.0, 'baseline_reward': 90.00000005005532, 'rewards': [80]}\n",
      "('baseline', 'coop')\n",
      "{'average_reward': 110.0, 'std_reward': 0.0, 'baseline_reward': 90.00000005005532, 'rewards': [110]}\n",
      "('baseline', 'adv')\n",
      "{'average_reward': 90.0, 'std_reward': 0.0, 'baseline_reward': 90.00000005005532, 'rewards': [90]}\n",
      "('baseline', 'random')\n",
      "{'average_reward': 100.0, 'std_reward': 0.0, 'baseline_reward': 90.00000005005532, 'rewards': [100]}\n"
     ]
    }
   ],
   "source": [
    "h_types = [\"gift\", \"maximax\", \"baseline\"]\n",
    "r_types = [\"coop\", \"adv\", \"random\"]\n",
    "\n",
    "opp_types = [(h,r) for h in h_types for r in r_types]\n",
    "\n",
    "for opp in opp_types:\n",
    "    stats = comp_stats(1,opp)\n",
    "    print(stats)"
   ]
  },
  {
   "cell_type": "code",
   "execution_count": 15,
   "metadata": {},
   "outputs": [
    {
     "name": "stdout",
     "output_type": "stream",
     "text": [
      "Computing statistics against different agents\n",
      "('gift', 'coop')\n",
      "('s1', 3.0)\n",
      "('gift', 'adv')\n",
      "('s1', 3.0)\n",
      "('gift', 'random')\n",
      "('s1', 3.0)\n",
      "('maximax', 'coop')\n",
      "('maximax', 'adv')\n",
      "('maximax', 'random')\n",
      "('baseline', 'coop')\n",
      "('baseline', 'adv')\n",
      "('baseline', 'random')\n"
     ]
    }
   ],
   "source": [
    "h_types = [\"gift\", \"maximax\", \"baseline\"]\n",
    "r_types = [\"coop\", \"adv\", \"random\"]\n",
    "\n",
    "opp_types = [(h,r) for h in h_types for r in r_types]\n",
    "\n",
    "print(\"Computing statistics against different agents\")\n",
    "# Compute statistics for different agents\n",
    "n = 1\n",
    "res = {opp:[] for opp in opp_types}\n",
    "for opp in opp_types:\n",
    "    stats = comp_stats(n,opp)\n",
    "    delta = (stats[\"average_reward\"], stats[\"std_reward\"])\n",
    "    res[opp] = delta\n",
    "\n",
    "# print(\"Plotting results\")\n",
    "# # Plot statistics\n",
    "# plt.figure()\n",
    "# plt.title(\"Average reward - baseline for n rollouts\")\n",
    "# x_vals = range(1,n_rollouts_max)\n",
    "# for opp in opp_types:\n",
    "#     res_opp = res[opp]\n",
    "#     plt.plot(x_vals, res_opp, label=opp)\n",
    "# plt.plot(x_vals, [-s0[1] for _ in x_vals], label=\"Initial risk capital\")\n",
    "# plt.xlabel(\"Number of rollouts\")\n",
    "# plt.ylabel(\"Average reward - baseline\")\n",
    "# plt.legend()\n",
    "# plt.show()"
   ]
  },
  {
   "cell_type": "code",
   "execution_count": 12,
   "metadata": {},
   "outputs": [
    {
     "data": {
      "text/plain": [
       "<ErrorbarContainer object of 3 artists>"
      ]
     },
     "execution_count": 12,
     "metadata": {},
     "output_type": "execute_result"
    },
    {
     "data": {
      "image/png": "[encoded data removed]",
      "text/plain": [
       "<Figure size 1440x360 with 1 Axes>"
      ]
     },
     "metadata": {
      "needs_background": "light"
     },
     "output_type": "display_data"
    }
   ],
   "source": [
    "ress = list(zip(*res.items()))\n",
    "x,z = ress[0],ress[1]\n",
    "x = [str(i) for i in x]\n",
    "y = [i[0] for i in z]\n",
    "c  = [i[1] for i in z]\n",
    "plt.figure(figsize=(20,5))\n",
    "plt.bar(x,y)\n",
    "plt.errorbar(x, y, yerr=c, fmt=\"o\", color=\"r\")"
   ]
  },
  {
   "cell_type": "code",
   "execution_count": 16,
   "metadata": {},
   "outputs": [
    {
     "data": {
      "text/plain": [
       "{('gift', 'coop'): (186.0, 0.0),\n",
       " ('gift', 'adv'): (90.0, 0.0),\n",
       " ('gift', 'random'): (98.34, 14.047932232182784),\n",
       " ('maximax', 'coop'): (200.0, 0.0),\n",
       " ('maximax', 'adv'): (0.0, 0.0),\n",
       " ('maximax', 'random'): (100.4, 29.117692216245434),\n",
       " ('baseline', 'coop'): (110.0, 0.0),\n",
       " ('baseline', 'adv'): (90.0, 0.0),\n",
       " ('baseline', 'random'): (99.82, 2.954251174155644)}"
      ]
     },
     "execution_count": 16,
     "metadata": {},
     "output_type": "execute_result"
    }
   ],
   "source": [
    "res"
   ]
  },
  {
   "cell_type": "code",
   "execution_count": 11,
   "metadata": {},
   "outputs": [
    {
     "name": "stdout",
     "output_type": "stream",
     "text": [
      "Testing with coop agent\n",
      "('s1', 4.0)\n",
      "state= ('s1', 9.0) , uH= 5 , strat= [[1.67742094e-09 9.99999998e-01 0.00000000e+00]] , uR= S , dr= 5.9999999932903165 , r+dr= 9.999999993290317 , constraint= 6.7096834754920565e-09\n",
      "state= ('s1', 19.0) , uH= 10 , strat= [[0.00000000e+00 3.59896081e-10 1.00000000e+00]] , uR= S , dr= 10.999999998200522 , r+dr= 19.999999998200522 , constraint= 1.7994779000218841e-09\n",
      "state= ('s1', 29.0) , uH= 10 , strat= [[0.00000000e+00 2.03196604e-10 1.00000000e+00]] , uR= S , dr= 10.999999998984023 , r+dr= 29.999999998984023 , constraint= 10.000000001015984\n",
      "state= ('s1', 40.0) , uH= 10 , strat= [[0. 0. 1.]] , uR= S , dr= 11.0 , r+dr= 40.0 , constraint= 20.0\n",
      "state= ('s1', 51.0) , uH= 10 , strat= [[0. 0. 1.]] , uR= S , dr= 11.0 , r+dr= 51.0 , constraint= 31.0\n",
      "state= ('s1', 61.0) , uH= 10 , strat= [[1.61360179e-09 1.41181784e-09 9.99999997e-01]] , uR= S , dr= 10.9999999784185 , r+dr= 61.9999999784185 , constraint= 42.000000021581506\n",
      "state= ('s1', 71.0) , uH= 10 , strat= [[4.76317775e-10 0.00000000e+00 1.00000000e+00]] , uR= S , dr= 10.99999999571314 , r+dr= 71.99999999571314 , constraint= 52.00000000428686\n",
      "state= ('s1', 81.0) , uH= 10 , strat= [[4.70972470e-09 0.00000000e+00 9.99999995e-01]] , uR= S , dr= 10.99999995761248 , r+dr= 81.99999995761249 , constraint= 62.00000004238752\n",
      "state= ('s1', 91.0) , uH= 10 , strat= [[1.79575115e-10 6.40246008e-11 1.00000000e+00]] , uR= S , dr= 10.999999998063704 , r+dr= 91.9999999980637 , constraint= 72.0000000019363\n",
      "state= ('s1', 100.0) , uH= 10 , strat= [[3.56246007e-10 3.12375523e-10 9.99999999e-01]] , uR= S , dr= 10.99999999523191 , r+dr= 101.99999999523192 , constraint= 82.00000000476808\n",
      "total_reward= 195\n",
      "Testing with adv agent\n",
      "('s1', 4.0)\n",
      "state= ('s1', 0.0) , uH= 5 , strat= [[1.67742094e-09 9.99999998e-01 0.00000000e+00]] , uR= F , dr= -3.9999999932903165 , r+dr= 6.7096834754920565e-09 , constraint= 6.7096834754920565e-09\n",
      "state= ('s1', 0.0) , uH= 1 , strat= [[1. 0. 0.]] , uR= F , dr= 0.0 , r+dr= 0.0 , constraint= 0.0\n",
      "state= ('s1', 0.0) , uH= 1 , strat= [[1. 0. 0.]] , uR= F , dr= 0.0 , r+dr= 0.0 , constraint= 0.0\n",
      "state= ('s1', 0.0) , uH= 1 , strat= [[1. 0. 0.]] , uR= F , dr= 0.0 , r+dr= 0.0 , constraint= 0.0\n",
      "state= ('s1', 0.0) , uH= 1 , strat= [[1. 0. 0.]] , uR= F , dr= 0.0 , r+dr= 0.0 , constraint= 0.0\n",
      "state= ('s1', 0.0) , uH= 1 , strat= [[1. 0. 0.]] , uR= F , dr= 0.0 , r+dr= 0.0 , constraint= 0.0\n",
      "state= ('s1', 0.0) , uH= 1 , strat= [[1. 0. 0.]] , uR= F , dr= 0.0 , r+dr= 0.0 , constraint= 0.0\n",
      "state= ('s1', 0.0) , uH= 1 , strat= [[1.00000000e+00 5.29623077e-12 4.53506751e-12]] , uR= F , dr= -6.200003226047699e-11 , r+dr= -6.200003226047699e-11 , constraint= -6.200003226047699e-11\n",
      "state= ('s1', 0.0) , uH= 1 , strat= [[1. 0. 0.]] , uR= F , dr= 0.0 , r+dr= 0.0 , constraint= 0.0\n",
      "state= ('s1', 0.0) , uH= 1 , strat= [[1. 0. 0.]] , uR= F , dr= 0.0 , r+dr= 0.0 , constraint= 0.0\n",
      "total_reward= 86\n",
      "Testing with random agent\n",
      "('s1', 4.0)\n",
      "state= ('s1', 0.0) , uH= 5 , strat= [[1.67742094e-09 9.99999998e-01 0.00000000e+00]] , uR= F , dr= -3.9999999932903165 , r+dr= 6.7096834754920565e-09 , constraint= 6.7096834754920565e-09\n",
      "state= ('s1', 2.0) , uH= 1 , strat= [[1. 0. 0.]] , uR= S , dr= 2.0 , r+dr= 2.0 , constraint= 0.0\n",
      "state= ('s1', 4.0) , uH= 1 , strat= [[1. 0. 0.]] , uR= S , dr= 2.0 , r+dr= 4.0 , constraint= 2.0\n",
      "state= ('s1', 10.0) , uH= 5 , strat= [[0. 1. 0.]] , uR= S , dr= 6.0 , r+dr= 10.0 , constraint= 0.0\n",
      "state= ('s1', 21.0) , uH= 10 , strat= [[0. 0. 1.]] , uR= S , dr= 11.0 , r+dr= 21.0 , constraint= 1.0\n",
      "state= ('s1', 32.0) , uH= 10 , strat= [[0. 0. 1.]] , uR= S , dr= 11.0 , r+dr= 32.0 , constraint= 12.0\n",
      "state= ('s1', 42.0) , uH= 10 , strat= [[3.42543603e-09 4.24501880e-09 9.99999992e-01]] , uR= S , dr= 10.99999994794598 , r+dr= 42.99999994794598 , constraint= 23.000000052054016\n",
      "state= ('s1', 33.0) , uH= 10 , strat= [[3.49163207e-10 1.87347175e-10 9.99999999e-01]] , uR= F , dr= -8.999999995920795 , r+dr= 33.000000004079205 , constraint= 33.000000004079205\n",
      "state= ('s1', 24.0) , uH= 10 , strat= [[3.49160472e-10 1.87345822e-10 9.99999999e-01]] , uR= F , dr= -8.999999995920827 , r+dr= 24.000000004079173 , constraint= 24.000000004079176\n",
      "state= ('s1', 34.0) , uH= 10 , strat= [[3.49158141e-10 1.87344652e-10 9.99999999e-01]] , uR= S , dr= 10.999999995920854 , r+dr= 34.99999999592085 , constraint= 15.000000004079146\n",
      "total_reward= 122\n"
     ]
    }
   ],
   "source": [
    "s0 = (\"s1\",proj_risk(4, risk_levels))\n",
    "sim = lambda opp_type: simulate_old(s0, game, solns, opp_type, seed)\n",
    "comp_stats = lambda n, opp_type: compute_stats(n, s0, game, solns, opp_type, seed)\n",
    "\n",
    "opp_types = [\"coop\", \"adv\", \"random\"]\n",
    "\n",
    "# Simulate against different agents\n",
    "for opp in opp_types:\n",
    "    sim(opp)"
   ]
  },
  {
   "cell_type": "code",
   "execution_count": 14,
   "metadata": {},
   "outputs": [
    {
     "ename": "Exception",
     "evalue": "Human type not available, select from gift, maximax, baseline.",
     "output_type": "error",
     "traceback": [
      "\u001b[0;31m---------------------------------------------------------------------------\u001b[0m",
      "\u001b[0;31mException\u001b[0m                                 Traceback (most recent call last)",
      "\u001b[0;32m/var/folders/ky/bqrl9z295l7d6309sw8l8t780000gp/T/ipykernel_97583/4228699006.py\u001b[0m in \u001b[0;36m<module>\u001b[0;34m\u001b[0m\n\u001b[0;32m----> 1\u001b[0;31m \u001b[0mcomp_stats\u001b[0m\u001b[0;34m(\u001b[0m\u001b[0;36m1\u001b[0m\u001b[0;34m,\u001b[0m \u001b[0;34m\"maximax\"\u001b[0m\u001b[0;34m)\u001b[0m\u001b[0;34m\u001b[0m\u001b[0;34m\u001b[0m\u001b[0m\n\u001b[0m",
      "\u001b[0;32m/var/folders/ky/bqrl9z295l7d6309sw8l8t780000gp/T/ipykernel_97583/3121385518.py\u001b[0m in \u001b[0;36m<lambda>\u001b[0;34m(n, opp_type)\u001b[0m\n\u001b[1;32m     64\u001b[0m \u001b[0;34m\u001b[0m\u001b[0m\n\u001b[1;32m     65\u001b[0m \u001b[0msim\u001b[0m \u001b[0;34m=\u001b[0m \u001b[0;32mlambda\u001b[0m \u001b[0mopp_type\u001b[0m\u001b[0;34m:\u001b[0m \u001b[0msimulate\u001b[0m\u001b[0;34m(\u001b[0m\u001b[0ms0\u001b[0m\u001b[0;34m,\u001b[0m \u001b[0mgame\u001b[0m\u001b[0;34m,\u001b[0m \u001b[0msolns\u001b[0m\u001b[0;34m,\u001b[0m \u001b[0mopp_type\u001b[0m\u001b[0;34m,\u001b[0m \u001b[0mseed\u001b[0m\u001b[0;34m)\u001b[0m\u001b[0;34m\u001b[0m\u001b[0;34m\u001b[0m\u001b[0m\n\u001b[0;32m---> 66\u001b[0;31m \u001b[0mcomp_stats\u001b[0m \u001b[0;34m=\u001b[0m \u001b[0;32mlambda\u001b[0m \u001b[0mn\u001b[0m\u001b[0;34m,\u001b[0m \u001b[0mopp_type\u001b[0m\u001b[0;34m:\u001b[0m \u001b[0mcompute_stats\u001b[0m\u001b[0;34m(\u001b[0m\u001b[0mn\u001b[0m\u001b[0;34m,\u001b[0m \u001b[0ms0\u001b[0m\u001b[0;34m,\u001b[0m \u001b[0mgame\u001b[0m\u001b[0;34m,\u001b[0m \u001b[0msolns\u001b[0m\u001b[0;34m,\u001b[0m \u001b[0mopp_type\u001b[0m\u001b[0;34m,\u001b[0m \u001b[0mseed\u001b[0m\u001b[0;34m)\u001b[0m\u001b[0;34m\u001b[0m\u001b[0;34m\u001b[0m\u001b[0m\n\u001b[0m\u001b[1;32m     67\u001b[0m \u001b[0;34m\u001b[0m\u001b[0m\n\u001b[1;32m     68\u001b[0m \u001b[0;31m# Issues to talk about: projecting onto risk levels when they become negative\u001b[0m\u001b[0;34m\u001b[0m\u001b[0;34m\u001b[0m\u001b[0m\n",
      "\u001b[0;32m~/Desktop/hybrid-workspace/epistemic-safety/compute_solns.py\u001b[0m in \u001b[0;36mcompute_stats\u001b[0;34m(n, s0, game, solns, player_types, seed)\u001b[0m\n\u001b[1;32m    461\u001b[0m         \u001b[0ms_next\u001b[0m \u001b[0;34m=\u001b[0m \u001b[0mtransition\u001b[0m\u001b[0;34m(\u001b[0m\u001b[0ms\u001b[0m\u001b[0;34m,\u001b[0m\u001b[0muH\u001b[0m\u001b[0;34m,\u001b[0m\u001b[0muR\u001b[0m\u001b[0;34m,\u001b[0m\u001b[0mdr\u001b[0m\u001b[0;34m)\u001b[0m\u001b[0;34m\u001b[0m\u001b[0;34m\u001b[0m\u001b[0m\n\u001b[1;32m    462\u001b[0m \u001b[0;34m\u001b[0m\u001b[0m\n\u001b[0;32m--> 463\u001b[0;31m         \u001b[0;31m# Calculate amount risked in expectation over strategy against an adversary\u001b[0m\u001b[0;34m\u001b[0m\u001b[0;34m\u001b[0m\u001b[0m\n\u001b[0m\u001b[1;32m    464\u001b[0m         \u001b[0mrsk\u001b[0m \u001b[0;34m=\u001b[0m \u001b[0;34m-\u001b[0m\u001b[0mv_funs_adv\u001b[0m\u001b[0;34m[\u001b[0m\u001b[0mt\u001b[0m\u001b[0;34m]\u001b[0m\u001b[0;34m[\u001b[0m\u001b[0ms\u001b[0m\u001b[0;34m[\u001b[0m\u001b[0;36m0\u001b[0m\u001b[0;34m]\u001b[0m\u001b[0;34m]\u001b[0m \u001b[0;34m+\u001b[0m \u001b[0ms\u001b[0m\u001b[0;34m[\u001b[0m\u001b[0;36m1\u001b[0m\u001b[0;34m]\u001b[0m\u001b[0;34m\u001b[0m\u001b[0;34m\u001b[0m\u001b[0m\n\u001b[1;32m    465\u001b[0m         \u001b[0;32mfor\u001b[0m \u001b[0mi\u001b[0m \u001b[0;32min\u001b[0m \u001b[0mrange\u001b[0m\u001b[0;34m(\u001b[0m\u001b[0mlen\u001b[0m\u001b[0;34m(\u001b[0m\u001b[0mhuman_actions\u001b[0m\u001b[0;34m)\u001b[0m\u001b[0;34m)\u001b[0m\u001b[0;34m:\u001b[0m\u001b[0;34m\u001b[0m\u001b[0;34m\u001b[0m\u001b[0m\n",
      "\u001b[0;32m~/Desktop/hybrid-workspace/epistemic-safety/compute_solns.py\u001b[0m in \u001b[0;36msimulate\u001b[0;34m(s0, game, solns, player_types, seed, verbose)\u001b[0m\n\u001b[1;32m    285\u001b[0m         \u001b[0;34m\"r_adv_actions\"\u001b[0m\u001b[0;34m:\u001b[0m\u001b[0mget_adv_pol\u001b[0m\u001b[0;34m(\u001b[0m\u001b[0mgame\u001b[0m\u001b[0;34m,\u001b[0m \u001b[0muHs\u001b[0m\u001b[0;34m,\u001b[0m \u001b[0mgift_policy\u001b[0m\u001b[0;34m=\u001b[0m\u001b[0;32mTrue\u001b[0m\u001b[0;34m)\u001b[0m\u001b[0;34m,\u001b[0m \u001b[0;34m\"r_coop_actions\"\u001b[0m\u001b[0;34m:\u001b[0m\u001b[0mget_coop_pol\u001b[0m\u001b[0;34m(\u001b[0m\u001b[0mgame\u001b[0m\u001b[0;34m,\u001b[0m \u001b[0muHs\u001b[0m\u001b[0;34m,\u001b[0m \u001b[0mgift_policy\u001b[0m\u001b[0;34m=\u001b[0m\u001b[0;32mTrue\u001b[0m\u001b[0;34m)\u001b[0m\u001b[0;34m,\u001b[0m \u001b[0;34m\"h_actions\"\u001b[0m\u001b[0;34m:\u001b[0m\u001b[0muHs\u001b[0m\u001b[0;34m,\u001b[0m\u001b[0;34m\u001b[0m\u001b[0;34m\u001b[0m\u001b[0m\n\u001b[1;32m    286\u001b[0m         \u001b[0;34m\"h_base_actions\"\u001b[0m\u001b[0;34m:\u001b[0m\u001b[0muHs_adv\u001b[0m\u001b[0;34m,\u001b[0m \u001b[0;34m\"r_base_actions\"\u001b[0m\u001b[0;34m:\u001b[0m\u001b[0muRs_adv\u001b[0m\u001b[0;34m,\u001b[0m \u001b[0;34m\"r_base_coop_actions\"\u001b[0m\u001b[0;34m:\u001b[0m\u001b[0muRs_adv_coop\u001b[0m\u001b[0;34m,\u001b[0m\u001b[0;34m\u001b[0m\u001b[0;34m\u001b[0m\u001b[0m\n\u001b[0;32m--> 287\u001b[0;31m         \u001b[0;34m\"h_maximax_actions\"\u001b[0m\u001b[0;34m:\u001b[0m\u001b[0muHs_maximax\u001b[0m\u001b[0;34m,\u001b[0m \u001b[0;34m\"r_maximax_actions\"\u001b[0m\u001b[0;34m:\u001b[0m\u001b[0muRs_maximax\u001b[0m\u001b[0;34m,\u001b[0m \u001b[0;34m\"h_maximax_adv_actions\"\u001b[0m\u001b[0;34m:\u001b[0m\u001b[0muRs_maximax_adv\u001b[0m\u001b[0;34m\u001b[0m\u001b[0;34m\u001b[0m\u001b[0m\n\u001b[0m\u001b[1;32m    288\u001b[0m     }\n\u001b[1;32m    289\u001b[0m \u001b[0;34m\u001b[0m\u001b[0m\n",
      "\u001b[0;31mException\u001b[0m: Human type not available, select from gift, maximax, baseline."
     ]
    }
   ],
   "source": [
    "comp_stats(1, \"maximax\")"
   ]
  },
  {
   "cell_type": "code",
   "execution_count": null,
   "metadata": {},
   "outputs": [
    {
     "data": {
      "text/plain": [
       "array([  0.,   1.,   2.,   3.,   4.,   5.,   6.,   7.,   8.,   9.,  10.,\n",
       "        11.,  12.,  13.,  14.,  15.,  16.,  17.,  18.,  19.,  20.,  21.,\n",
       "        22.,  23.,  24.,  25.,  26.,  27.,  28.,  29.,  30.,  31.,  32.,\n",
       "        33.,  34.,  35.,  36.,  37.,  38.,  39.,  40.,  41.,  42.,  43.,\n",
       "        44.,  45.,  46.,  47.,  48.,  49.,  50.,  51.,  52.,  53.,  54.,\n",
       "        55.,  56.,  57.,  58.,  59.,  60.,  61.,  62.,  63.,  64.,  65.,\n",
       "        66.,  67.,  68.,  69.,  70.,  71.,  72.,  73.,  74.,  75.,  76.,\n",
       "        77.,  78.,  79.,  80.,  81.,  82.,  83.,  84.,  85.,  86.,  87.,\n",
       "        88.,  89.,  90.,  91.,  92.,  93.,  94.,  95.,  96.,  97.,  98.,\n",
       "        99., 100.])"
      ]
     },
     "execution_count": 6,
     "metadata": {},
     "output_type": "execute_result"
    }
   ],
   "source": [
    "risk_levels"
   ]
  },
  {
   "cell_type": "code",
   "execution_count": null,
   "metadata": {},
   "outputs": [],
   "source": []
  }
 ],
 "metadata": {
  "interpreter": {
   "hash": "2a91ce111bf7d6151ef58baa2bb212eee2faec069425c365316915ac83c502c6"
  },
  "kernelspec": {
   "display_name": "Python 3.9.10 ('games_env')",
   "language": "python",
   "name": "python3"
  },
  "language_info": {
   "codemirror_mode": {
    "name": "ipython",
    "version": 3
   },
   "file_extension": ".py",
   "mimetype": "text/x-python",
   "name": "python",
   "nbconvert_exporter": "python",
   "pygments_lexer": "ipython3",
   "version": "3.9.10"
  },
  "orig_nbformat": 4
 },
 "nbformat": 4,
 "nbformat_minor": 2
}
