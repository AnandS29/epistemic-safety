{
 "cells": [
  {
   "cell_type": "code",
   "execution_count": 2,
   "metadata": {},
   "outputs": [],
   "source": [
    "import numpy as np"
   ]
  },
  {
   "cell_type": "code",
   "execution_count": 5,
   "metadata": {},
   "outputs": [
    {
     "data": {
      "text/plain": [
       "array([0.  , 0.17, 0.34, 0.52, 0.69, 0.86, 1.03, 1.21, 1.38, 1.55, 1.72,\n",
       "       1.9 , 2.07, 2.24, 2.41, 2.59, 2.76, 2.93, 3.1 , 3.28, 3.45, 3.62,\n",
       "       3.79, 3.97, 4.14, 4.31, 4.48, 4.66, 4.83, 5.  ])"
      ]
     },
     "execution_count": 5,
     "metadata": {},
     "output_type": "execute_result"
    }
   ],
   "source": []
  },
  {
   "cell_type": "code",
   "execution_count": null,
   "metadata": {},
   "outputs": [],
   "source": []
  }
 ],
 "metadata": {
  "interpreter": {
   "hash": "2a91ce111bf7d6151ef58baa2bb212eee2faec069425c365316915ac83c502c6"
  },
  "kernelspec": {
   "display_name": "Python 3.9.10 ('games_env')",
   "language": "python",
   "name": "python3"
  },
  "language_info": {
   "codemirror_mode": {
    "name": "ipython",
    "version": 3
   },
   "file_extension": ".py",
   "mimetype": "text/x-python",
   "name": "python",
   "nbconvert_exporter": "python",
   "pygments_lexer": "ipython3",
   "version": "3.9.10"
  },
  "orig_nbformat": 4
 },
 "nbformat": 4,
 "nbformat_minor": 2
}
